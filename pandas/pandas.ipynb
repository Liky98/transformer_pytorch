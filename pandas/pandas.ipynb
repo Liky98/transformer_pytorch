{
 "cells": [
  {
   "cell_type": "code",
   "execution_count": 2,
   "metadata": {},
   "outputs": [],
   "source": [
    "import pandas as pd"
   ]
  },
  {
   "cell_type": "markdown",
   "metadata": {},
   "source": [
    "# DataFrame, Series"
   ]
  },
  {
   "cell_type": "code",
   "execution_count": 7,
   "metadata": {},
   "outputs": [
    {
     "name": "stdout",
     "output_type": "stream",
     "text": [
      "   num   word\n",
      "0    1    one\n",
      "1    2    two\n",
      "2    3  three\n"
     ]
    }
   ],
   "source": [
    "s1 = pd.core.series.Series([1, 2, 3])\n",
    "s2 = pd.core.series.Series(['one', 'two', 'three'])\n",
    "\n",
    "df = pd.DataFrame(data=dict(num=s1, word=s2))\n",
    "\n",
    "print(df)"
   ]
  },
  {
   "cell_type": "markdown",
   "metadata": {},
   "source": [
    "# read File to DataFrame"
   ]
  },
  {
   "cell_type": "code",
   "execution_count": 20,
   "metadata": {},
   "outputs": [
    {
     "name": "stdout",
     "output_type": "stream",
     "text": [
      "    name  age        job\n",
      "0   John   20    student\n",
      "1  Jenny   30  developer\n",
      "2   Nate   30    teacher\n",
      "3  Julia   40    dentist\n",
      "4  Brian   45    manager\n",
      "5  Chris   25     intern\n",
      "    name  age        job\n",
      "0   John   20    student\n",
      "1  Jenny   30  developer\n",
      "2   Nate   30    teacher\n",
      "3  Julia   40    dentist\n",
      "4  Brian   45    manager\n",
      "5  Chris   25     intern\n",
      "    name  age        job\n",
      "0   John   20    student\n",
      "1  Jenny   30  developer\n",
      "2   Nate   30    teacher\n",
      "3  Julia   40    dentist\n",
      "4  Brian   45    manager\n",
      "5  Chris   25     intern\n",
      "    name  age        job\n",
      "0   John   20    student\n",
      "1  Jenny   30  developer\n",
      "2   Nate   30    teacher\n",
      "3  Julia   40    dentist\n",
      "4  Brian   45    manager\n",
      "5  Chris   25     intern\n"
     ]
    }
   ],
   "source": [
    "# read csv\n",
    "df = pd.read_csv('friend_list.csv')\n",
    "print(df)\n",
    "\n",
    "# read txt\n",
    "df = pd.read_csv('friend_list.txt')\n",
    "print(df)\n",
    "\n",
    "# custom delimiter\n",
    "df = pd.read_csv('friend_list_tab.txt', delimiter='\\t')\n",
    "print(df)\n",
    "\n",
    "# custom header\n",
    "df = pd.read_csv('friend_list_no_head.csv', header= None, names = ['name', 'age', 'job'])\n",
    "print(df)"
   ]
  },
  {
   "cell_type": "markdown",
   "metadata": {},
   "source": [
    "# create DataFrame"
   ]
  },
  {
   "cell_type": "markdown",
   "metadata": {},
   "source": [
    "## from dictionary"
   ]
  },
  {
   "cell_type": "code",
   "execution_count": 33,
   "metadata": {},
   "outputs": [
    {
     "name": "stdout",
     "output_type": "stream",
     "text": [
      "   name  age      job\n",
      "0  John   20  student\n",
      "1  Nate   30  teacher\n",
      "   age  name      job\n",
      "0   20  John  student\n",
      "1   30  Nate  teacher\n"
     ]
    }
   ],
   "source": [
    "friend_dict_list = [ \n",
    "    {'name': 'John', 'age' : 20, 'job' : 'student'},\n",
    "    {'name': 'Nate', 'age' : 30, 'job' : 'teacher'}\n",
    "    ]\n",
    "\n",
    "df = pd.DataFrame(friend_dict_list)\n",
    "\n",
    "print(df)\n",
    "\n",
    "# change column order\n",
    "df = df[['age', 'name', 'job']]\n",
    "\n",
    "print(df)"
   ]
  },
  {
   "cell_type": "markdown",
   "metadata": {},
   "source": [
    "## from list"
   ]
  },
  {
   "cell_type": "code",
   "execution_count": 41,
   "metadata": {},
   "outputs": [
    {
     "name": "stdout",
     "output_type": "stream",
     "text": [
      "   name  age      job\n",
      "0  John   20  student\n",
      "1  Nate   30  teacher\n"
     ]
    }
   ],
   "source": [
    "friend_list = [\n",
    "    ['John', 20, 'student'],\n",
    "    ['Nate', 30, 'teacher']\n",
    "]\n",
    "\n",
    "column_name = ['name', 'age', 'job']\n",
    "\n",
    "df = pd.DataFrame.from_records(friend_list, columns=column_name)\n",
    "\n",
    "print(df)"
   ]
  },
  {
   "cell_type": "markdown",
   "metadata": {},
   "source": [
    "# write DataFrame to File"
   ]
  },
  {
   "cell_type": "code",
   "execution_count": 47,
   "metadata": {},
   "outputs": [],
   "source": [
    "friend_list = [\n",
    "    ['John', 20, 'student'],\n",
    "    ['Jenny', 30, None],\n",
    "    ['Nate', 30, 'teacher']\n",
    "]\n",
    "\n",
    "df = pd.DataFrame.from_records(friend_list, columns=['name', 'age', 'job'])\n",
    "\n",
    "# default argument value: index=True, header=True, na_rep= None\n",
    "df.to_csv('friends.csv', index=True, header=True, na_rep='-') "
   ]
  },
  {
   "cell_type": "markdown",
   "metadata": {},
   "source": [
    "# select row, column"
   ]
  },
  {
   "cell_type": "markdown",
   "metadata": {},
   "source": [
    "## select row"
   ]
  },
  {
   "cell_type": "markdown",
   "metadata": {},
   "source": [
    "### by index"
   ]
  },
  {
   "cell_type": "code",
   "execution_count": 223,
   "metadata": {},
   "outputs": [
    {
     "name": "stdout",
     "output_type": "stream",
     "text": [
      "    name  age        job\n",
      "0   John   20    student\n",
      "1  Jenny   30  developer\n",
      "2   Nate   30    teacher\n"
     ]
    }
   ],
   "source": [
    "friend_list = [\n",
    "    ['John', 20, 'student'],\n",
    "    ['Jenny', 30, 'developer'],\n",
    "    ['Nate', 30, 'teacher']\n",
    "]\n",
    "\n",
    "df = pd.DataFrame.from_records(friend_list, columns=['name', 'age', 'job'])\n",
    "\n",
    "print(df)"
   ]
  },
  {
   "cell_type": "code",
   "execution_count": 224,
   "metadata": {},
   "outputs": [
    {
     "name": "stdout",
     "output_type": "stream",
     "text": [
      "    name  age        job\n",
      "1  Jenny   30  developer\n",
      "2   Nate   30    teacher\n"
     ]
    }
   ],
   "source": [
    "# get view of 1~2 row\n",
    "print(df[1:3])"
   ]
  },
  {
   "cell_type": "code",
   "execution_count": 225,
   "metadata": {},
   "outputs": [
    {
     "name": "stdout",
     "output_type": "stream",
     "text": [
      "   name  age      job\n",
      "0  John   20  student\n",
      "2  Nate   30  teacher\n"
     ]
    }
   ],
   "source": [
    "# get view of 0, 2 row\n",
    "print(df.loc[[0,2]])"
   ]
  },
  {
   "cell_type": "markdown",
   "metadata": {},
   "source": [
    "### by column condition"
   ]
  },
  {
   "cell_type": "code",
   "execution_count": 226,
   "metadata": {},
   "outputs": [
    {
     "name": "stdout",
     "output_type": "stream",
     "text": [
      "    name  age        job\n",
      "1  Jenny   30  developer\n",
      "2   Nate   30    teacher\n"
     ]
    }
   ],
   "source": [
    "# get view of age > 25\n",
    "print(df[df.age > 25])"
   ]
  },
  {
   "cell_type": "code",
   "execution_count": 227,
   "metadata": {},
   "outputs": [
    {
     "name": "stdout",
     "output_type": "stream",
     "text": [
      "    name  age        job\n",
      "1  Jenny   30  developer\n",
      "2   Nate   30    teacher\n"
     ]
    }
   ],
   "source": [
    "# using query\n",
    "print(df.query('age>25'))"
   ]
  },
  {
   "cell_type": "code",
   "execution_count": 228,
   "metadata": {},
   "outputs": [
    {
     "name": "stdout",
     "output_type": "stream",
     "text": [
      "   name  age      job\n",
      "2  Nate   30  teacher\n"
     ]
    }
   ],
   "source": [
    "# using many condition\n",
    "print(df[(df.age > 25) & (df.name=='Nate')])"
   ]
  },
  {
   "cell_type": "markdown",
   "metadata": {},
   "source": [
    "## select column"
   ]
  },
  {
   "cell_type": "code",
   "execution_count": 229,
   "metadata": {},
   "outputs": [
    {
     "name": "stdout",
     "output_type": "stream",
     "text": [
      "       0   1          2\n",
      "0   John  20    student\n",
      "1  Jenny  30  developer\n",
      "2   Nate  30    teacher\n"
     ]
    }
   ],
   "source": [
    "friend_list = [\n",
    "    ['John', 20, 'student'],\n",
    "    ['Jenny', 30, 'developer'],\n",
    "    ['Nate', 30, 'teacher']\n",
    "]\n",
    "\n",
    "df = pd.DataFrame.from_records(friend_list)\n",
    "\n",
    "print(df)"
   ]
  },
  {
   "cell_type": "markdown",
   "metadata": {},
   "source": [
    "### by index"
   ]
  },
  {
   "cell_type": "code",
   "execution_count": 237,
   "metadata": {},
   "outputs": [
    {
     "name": "stdout",
     "output_type": "stream",
     "text": [
      "       0   1          2\n",
      "0   John  20    student\n",
      "1  Jenny  30  developer\n",
      "2   Nate  30    teacher\n"
     ]
    }
   ],
   "source": [
    "friend_list = [\n",
    "    ['John', 20, 'student'],\n",
    "    ['Jenny', 30, 'developer'],\n",
    "    ['Nate', 30, 'teacher']\n",
    "]\n",
    "\n",
    "df = pd.DataFrame.from_records(friend_list)\n",
    "\n",
    "print(df)"
   ]
  },
  {
   "cell_type": "code",
   "execution_count": 238,
   "metadata": {},
   "outputs": [
    {
     "name": "stdout",
     "output_type": "stream",
     "text": [
      "       0   1\n",
      "0   John  20\n",
      "1  Jenny  30\n",
      "2   Nate  30\n"
     ]
    }
   ],
   "source": [
    "# get 0~1 column\n",
    "print(df.iloc[:, 0:2])"
   ]
  },
  {
   "cell_type": "code",
   "execution_count": 239,
   "metadata": {},
   "outputs": [
    {
     "name": "stdout",
     "output_type": "stream",
     "text": [
      "       0   1\n",
      "1  Jenny  30\n",
      "2   Nate  30\n"
     ]
    }
   ],
   "source": [
    "# get 1~2 row, 0~1 column\n",
    "print(df.iloc[1:3, 0:2])"
   ]
  },
  {
   "cell_type": "markdown",
   "metadata": {},
   "source": [
    "### by column name"
   ]
  },
  {
   "cell_type": "code",
   "execution_count": 240,
   "metadata": {
    "scrolled": true
   },
   "outputs": [
    {
     "name": "stdout",
     "output_type": "stream",
     "text": [
      "    name  age        job\n",
      "0   John   20    student\n",
      "1  Jenny   30  developer\n",
      "2   Nate   30    teacher\n",
      "3  Julia   40    dentist\n",
      "4  Brian   45    manager\n",
      "5  Chris   25     intern\n"
     ]
    }
   ],
   "source": [
    "df = pd.read_csv('friend_list_no_head.csv', header=None, names=['name', 'age', 'job'])\n",
    "\n",
    "print(df)"
   ]
  },
  {
   "cell_type": "code",
   "execution_count": 241,
   "metadata": {},
   "outputs": [
    {
     "name": "stdout",
     "output_type": "stream",
     "text": [
      "    name        job\n",
      "0   John    student\n",
      "1  Jenny  developer\n",
      "2   Nate    teacher\n",
      "3  Julia    dentist\n",
      "4  Brian    manager\n",
      "5  Chris     intern\n"
     ]
    }
   ],
   "source": [
    "print(df[['name', 'job']])"
   ]
  },
  {
   "cell_type": "code",
   "execution_count": 242,
   "metadata": {},
   "outputs": [
    {
     "name": "stdout",
     "output_type": "stream",
     "text": [
      "    name        job\n",
      "0   John    student\n",
      "1  Jenny  developer\n",
      "2   Nate    teacher\n",
      "3  Julia    dentist\n",
      "4  Brian    manager\n",
      "5  Chris     intern\n"
     ]
    }
   ],
   "source": [
    "print(df.filter(items=['name', 'job']))"
   ]
  },
  {
   "cell_type": "code",
   "execution_count": 243,
   "metadata": {},
   "outputs": [
    {
     "name": "stdout",
     "output_type": "stream",
     "text": [
      "    name  age\n",
      "0   John   20\n",
      "1  Jenny   30\n",
      "2   Nate   30\n",
      "3  Julia   40\n",
      "4  Brian   45\n",
      "5  Chris   25\n"
     ]
    }
   ],
   "source": [
    "print(df.filter(like='a', axis=1))"
   ]
  },
  {
   "cell_type": "code",
   "execution_count": 244,
   "metadata": {},
   "outputs": [
    {
     "name": "stdout",
     "output_type": "stream",
     "text": [
      "   age\n",
      "0   20\n",
      "1   30\n",
      "2   30\n",
      "3   40\n",
      "4   45\n",
      "5   25\n"
     ]
    }
   ],
   "source": [
    "# regex format, start with 'a' column\n",
    "print(df.filter(regex='^a', axis=1))"
   ]
  },
  {
   "cell_type": "code",
   "execution_count": 245,
   "metadata": {},
   "outputs": [
    {
     "name": "stdout",
     "output_type": "stream",
     "text": [
      "         job\n",
      "0    student\n",
      "1  developer\n",
      "2    teacher\n",
      "3    dentist\n",
      "4    manager\n",
      "5     intern\n"
     ]
    }
   ],
   "source": [
    "# regex format, end with 'b' column\n",
    "print(df.filter(regex='b$', axis=1))"
   ]
  },
  {
   "cell_type": "markdown",
   "metadata": {},
   "source": [
    "# drop row, column"
   ]
  },
  {
   "cell_type": "markdown",
   "metadata": {},
   "source": [
    "## by index"
   ]
  },
  {
   "cell_type": "code",
   "execution_count": 251,
   "metadata": {},
   "outputs": [
    {
     "name": "stdout",
     "output_type": "stream",
     "text": [
      "    name  age        job\n",
      "0   John   20    student\n",
      "1  Jenny   30  developer\n",
      "2   Nate   30    teacher\n",
      "3  Julia   40    dentist\n",
      "4  Brian   45    manager\n",
      "5  Chris   25     intern\n"
     ]
    }
   ],
   "source": [
    "df = pd.read_csv('friend_list_no_head.csv', header=None, names=['name', 'age', 'job'])\n",
    "\n",
    "print(df)"
   ]
  },
  {
   "cell_type": "code",
   "execution_count": 252,
   "metadata": {},
   "outputs": [
    {
     "name": "stdout",
     "output_type": "stream",
     "text": [
      "    name  age        job\n",
      "1  Jenny   30  developer\n",
      "3  Julia   40    dentist\n",
      "4  Brian   45    manager\n",
      "5  Chris   25     intern\n"
     ]
    }
   ],
   "source": [
    "# get view\n",
    "result = df.drop(df.index[[0,2]])\n",
    "print(result)"
   ]
  },
  {
   "cell_type": "code",
   "execution_count": 253,
   "metadata": {},
   "outputs": [
    {
     "name": "stdout",
     "output_type": "stream",
     "text": [
      "    name  age        job\n",
      "1  Jenny   30  developer\n",
      "3  Julia   40    dentist\n",
      "4  Brian   45    manager\n",
      "5  Chris   25     intern\n"
     ]
    }
   ],
   "source": [
    "# update DataFrame\n",
    "df.drop(df.index[[0,2]], inplace=True)\n",
    "print(df)"
   ]
  },
  {
   "cell_type": "markdown",
   "metadata": {},
   "source": [
    "## by condition"
   ]
  },
  {
   "cell_type": "code",
   "execution_count": 254,
   "metadata": {},
   "outputs": [
    {
     "name": "stdout",
     "output_type": "stream",
     "text": [
      "    name  age        job\n",
      "1  Jenny   30  developer\n",
      "3  Julia   40    dentist\n",
      "4  Brian   45    manager\n"
     ]
    }
   ],
   "source": [
    "result = df[df.age > 25]\n",
    "print(result)"
   ]
  },
  {
   "cell_type": "markdown",
   "metadata": {},
   "source": [
    "## drop column"
   ]
  },
  {
   "cell_type": "code",
   "execution_count": 255,
   "metadata": {},
   "outputs": [
    {
     "name": "stdout",
     "output_type": "stream",
     "text": [
      "    name        job\n",
      "1  Jenny  developer\n",
      "3  Julia    dentist\n",
      "4  Brian    manager\n",
      "5  Chris     intern\n"
     ]
    }
   ],
   "source": [
    "result = df.drop('age', axis=1)\n",
    "print(result)"
   ]
  },
  {
   "cell_type": "markdown",
   "metadata": {},
   "source": [
    "# Add / Update row, column"
   ]
  },
  {
   "cell_type": "markdown",
   "metadata": {},
   "source": [
    "## add column"
   ]
  },
  {
   "cell_type": "code",
   "execution_count": 260,
   "metadata": {},
   "outputs": [
    {
     "name": "stdout",
     "output_type": "stream",
     "text": [
      "    name  age        job\n",
      "0   John   20    student\n",
      "1  Jenny   30  developer\n",
      "2   Nate   30    teacher\n",
      "3  Julia   40    dentist\n",
      "4  Brian   45    manager\n",
      "5  Chris   25     intern\n"
     ]
    }
   ],
   "source": [
    "df = pd.read_csv('friend_list_no_head.csv', header=None, names=['name', 'age', 'job'])\n",
    "\n",
    "print(df)"
   ]
  },
  {
   "cell_type": "markdown",
   "metadata": {},
   "source": [
    "### with default value"
   ]
  },
  {
   "cell_type": "code",
   "execution_count": 261,
   "metadata": {},
   "outputs": [
    {
     "name": "stdout",
     "output_type": "stream",
     "text": [
      "    name  age        job  salary\n",
      "0   John   20    student       0\n",
      "1  Jenny   30  developer       0\n",
      "2   Nate   30    teacher       0\n",
      "3  Julia   40    dentist       0\n",
      "4  Brian   45    manager       0\n",
      "5  Chris   25     intern       0\n"
     ]
    }
   ],
   "source": [
    "df['salary'] = 0\n",
    "print(df)"
   ]
  },
  {
   "cell_type": "markdown",
   "metadata": {},
   "source": [
    "### with condition"
   ]
  },
  {
   "cell_type": "code",
   "execution_count": 262,
   "metadata": {},
   "outputs": [
    {
     "name": "stdout",
     "output_type": "stream",
     "text": [
      "    name  age        job salary\n",
      "0   John   20    student     no\n",
      "1  Jenny   30  developer    yes\n",
      "2   Nate   30    teacher    yes\n",
      "3  Julia   40    dentist    yes\n",
      "4  Brian   45    manager    yes\n",
      "5  Chris   25     intern    yes\n"
     ]
    }
   ],
   "source": [
    "import numpy as np\n",
    "\n",
    "df['salary'] = np.where(df['job'] != 'student', 'yes', 'no')\n",
    "print(df)"
   ]
  },
  {
   "cell_type": "markdown",
   "metadata": {},
   "source": [
    "### with operation"
   ]
  },
  {
   "cell_type": "code",
   "execution_count": 263,
   "metadata": {},
   "outputs": [
    {
     "name": "stdout",
     "output_type": "stream",
     "text": [
      "    name  midterm  final\n",
      "0   John       95     85\n",
      "1  Jenny       85     80\n",
      "2   Nate       10     30\n"
     ]
    }
   ],
   "source": [
    "friend_dict_list = [{'name': 'John', 'midterm': 95, 'final': 85},\n",
    "         {'name': 'Jenny', 'midterm': 85, 'final': 80},\n",
    "         {'name': 'Nate', 'midterm': 10, 'final': 30}]\n",
    "\n",
    "df = pd.DataFrame(friend_dict_list, columns = ['name', 'midterm', 'final'])\n",
    "print(df)"
   ]
  },
  {
   "cell_type": "code",
   "execution_count": 264,
   "metadata": {},
   "outputs": [
    {
     "name": "stdout",
     "output_type": "stream",
     "text": [
      "    name  midterm  final  total\n",
      "0   John       95     85    180\n",
      "1  Jenny       85     80    165\n",
      "2   Nate       10     30     40\n"
     ]
    }
   ],
   "source": [
    "df['total'] = df['midterm'] + df['final']\n",
    "print(df)"
   ]
  },
  {
   "cell_type": "code",
   "execution_count": 265,
   "metadata": {},
   "outputs": [
    {
     "name": "stdout",
     "output_type": "stream",
     "text": [
      "    name  midterm  final  total  average\n",
      "0   John       95     85    180     90.0\n",
      "1  Jenny       85     80    165     82.5\n",
      "2   Nate       10     30     40     20.0\n"
     ]
    }
   ],
   "source": [
    "df['average'] = df['total'] / 2\n",
    "print(df)"
   ]
  },
  {
   "cell_type": "markdown",
   "metadata": {},
   "source": [
    "### with function (apply)"
   ]
  },
  {
   "cell_type": "markdown",
   "metadata": {},
   "source": [
    "#### simple function"
   ]
  },
  {
   "cell_type": "code",
   "execution_count": 266,
   "metadata": {},
   "outputs": [
    {
     "name": "stdout",
     "output_type": "stream",
     "text": [
      "    name  midterm  final  total  average grade\n",
      "0   John       95     85    180     90.0     A\n",
      "1  Jenny       85     80    165     82.5     B\n",
      "2   Nate       10     30     40     20.0     F\n"
     ]
    }
   ],
   "source": [
    "grades = []\n",
    "\n",
    "for row in df['average']:\n",
    "    if row >= 90:\n",
    "        grades.append('A')\n",
    "    elif row >= 80:\n",
    "        grades.append('B')\n",
    "    else:\n",
    "        grades.append('F')\n",
    "\n",
    "df['grade'] = grades\n",
    "\n",
    "print(df)"
   ]
  },
  {
   "cell_type": "code",
   "execution_count": 267,
   "metadata": {},
   "outputs": [
    {
     "name": "stdout",
     "output_type": "stream",
     "text": [
      "    name  midterm  final  total  average grade\n",
      "0   John       95     85    180     90.0  Pass\n",
      "1  Jenny       85     80    165     82.5  Pass\n",
      "2   Nate       10     30     40     20.0  Fail\n"
     ]
    }
   ],
   "source": [
    "def pass_or_fail(row):\n",
    "    if row != 'F':\n",
    "        return 'Pass'\n",
    "    else:\n",
    "        return 'Fail'\n",
    "\n",
    "df.grade = df.grade.apply(pass_or_fail)\n",
    "print(df)"
   ]
  },
  {
   "cell_type": "code",
   "execution_count": 268,
   "metadata": {},
   "outputs": [
    {
     "name": "stdout",
     "output_type": "stream",
     "text": [
      "   yyyy-mm-dd\n",
      "0  2000-06-27\n",
      "1  2007-10-27\n"
     ]
    }
   ],
   "source": [
    "date_list = [['2000-06-27'], ['2007-10-27']]\n",
    "\n",
    "df = pd.DataFrame.from_records(date_list, columns=['yyyy-mm-dd'])\n",
    "\n",
    "print(df)"
   ]
  },
  {
   "cell_type": "code",
   "execution_count": 269,
   "metadata": {},
   "outputs": [
    {
     "name": "stdout",
     "output_type": "stream",
     "text": [
      "   yyyy-mm-dd  year\n",
      "0  2000-06-27  2000\n",
      "1  2007-10-27  2007\n"
     ]
    }
   ],
   "source": [
    "def extract_year(row):\n",
    "    return row.split('-')[0]\n",
    "\n",
    "df['year'] = df['yyyy-mm-dd'].apply(extract_year)\n",
    "print(df)"
   ]
  },
  {
   "cell_type": "markdown",
   "metadata": {},
   "source": [
    "#### function with parameters"
   ]
  },
  {
   "cell_type": "code",
   "execution_count": 270,
   "metadata": {},
   "outputs": [
    {
     "name": "stdout",
     "output_type": "stream",
     "text": [
      "   yyyy-mm-dd  year  age\n",
      "0  2000-06-27  2000   21\n",
      "1  2007-10-27  2007   14\n"
     ]
    }
   ],
   "source": [
    "def get_age(year, current_year):\n",
    "    return current_year - int(year)\n",
    "\n",
    "df['age'] = df['year'].apply(get_age, current_year=2021)\n",
    "print(df)"
   ]
  },
  {
   "cell_type": "code",
   "execution_count": 271,
   "metadata": {},
   "outputs": [
    {
     "name": "stdout",
     "output_type": "stream",
     "text": [
      "   yyyy-mm-dd  year  age          introduce\n",
      "0  2000-06-27  2000   21  I am 21 years old\n",
      "1  2007-10-27  2007   14  I am 14 years old\n"
     ]
    }
   ],
   "source": [
    "def get_introduce(age, prefix, suffix):\n",
    "    return prefix + str(age) + suffix\n",
    "\n",
    "df['introduce'] = df['age'].apply(get_introduce, prefix='I am ', suffix = ' years old')\n",
    "print(df)"
   ]
  },
  {
   "cell_type": "markdown",
   "metadata": {},
   "source": [
    "### mapping specific column"
   ]
  },
  {
   "cell_type": "code",
   "execution_count": 272,
   "metadata": {},
   "outputs": [
    {
     "name": "stdout",
     "output_type": "stream",
     "text": [
      "    name  age        job\n",
      "0   John   20    student\n",
      "1  Jenny   30  developer\n",
      "2   Nate   30    teacher\n",
      "3  Julia   40    dentist\n",
      "4  Brian   45    manager\n",
      "5  Chris   25     intern\n"
     ]
    }
   ],
   "source": [
    "df = pd.read_csv('friend_list_no_head.csv', header=None, names=['name', 'age', 'job'])\n",
    "print(df)"
   ]
  },
  {
   "cell_type": "code",
   "execution_count": 273,
   "metadata": {},
   "outputs": [
    {
     "name": "stdout",
     "output_type": "stream",
     "text": [
      "    name  age  job\n",
      "0   John   20  1.0\n",
      "1  Jenny   30  2.0\n",
      "2   Nate   30  3.0\n",
      "3  Julia   40  NaN\n",
      "4  Brian   45  NaN\n",
      "5  Chris   25  NaN\n"
     ]
    }
   ],
   "source": [
    "df.job = df.job.map({'student': 1, 'developer' : 2, 'teacher' : 3})\n",
    "print(df)"
   ]
  },
  {
   "cell_type": "markdown",
   "metadata": {},
   "source": [
    "### mapping all column "
   ]
  },
  {
   "cell_type": "code",
   "execution_count": 274,
   "metadata": {},
   "outputs": [
    {
     "name": "stdout",
     "output_type": "stream",
     "text": [
      "     x    y\n",
      "0  5.5 -5.6\n",
      "1 -5.2  5.5\n",
      "2 -1.6 -4.5\n"
     ]
    }
   ],
   "source": [
    "x_y = [{'x': 5.5, 'y': -5.6},\n",
    "         {'x': -5.2, 'y': 5.5},\n",
    "         {'x': -1.6, 'y': -4.5}]\n",
    "df = pd.DataFrame(x_y)\n",
    "print(df)"
   ]
  },
  {
   "cell_type": "code",
   "execution_count": 276,
   "metadata": {},
   "outputs": [
    {
     "name": "stdout",
     "output_type": "stream",
     "text": [
      "     x    y\n",
      "0  6.0 -6.0\n",
      "1 -5.0  6.0\n",
      "2 -2.0 -4.0\n"
     ]
    }
   ],
   "source": [
    "import numpy as np\n",
    "\n",
    "df = df.applymap(np.around)\n",
    "print(df)"
   ]
  },
  {
   "cell_type": "markdown",
   "metadata": {},
   "source": [
    "## Add row (append)"
   ]
  },
  {
   "cell_type": "code",
   "execution_count": 280,
   "metadata": {},
   "outputs": [
    {
     "name": "stdout",
     "output_type": "stream",
     "text": [
      "    name  midterm  final\n",
      "0   John       95     85\n",
      "1  Jenny       85     80\n",
      "2   Nate       10     30\n"
     ]
    }
   ],
   "source": [
    "friend_dict_list = [{'name': 'John', 'midterm': 95, 'final': 85},\n",
    "         {'name': 'Jenny', 'midterm': 85, 'final': 80},\n",
    "         {'name': 'Nate', 'midterm': 10, 'final': 30}]\n",
    "df = pd.DataFrame(friend_dict_list, columns = ['name', 'midterm', 'final'])\n",
    "print(df)"
   ]
  },
  {
   "cell_type": "code",
   "execution_count": 281,
   "metadata": {},
   "outputs": [
    {
     "name": "stdout",
     "output_type": "stream",
     "text": [
      "  name  midterm  final\n",
      "0  Ben       50     50\n"
     ]
    }
   ],
   "source": [
    "df2 = pd.DataFrame([\n",
    "    ['Ben', 50, 50]\n",
    "], columns = ['name', 'midterm', 'final'])\n",
    "\n",
    "print(df2)"
   ]
  },
  {
   "cell_type": "code",
   "execution_count": 283,
   "metadata": {},
   "outputs": [
    {
     "name": "stdout",
     "output_type": "stream",
     "text": [
      "    name  midterm  final\n",
      "0   John       95     85\n",
      "1  Jenny       85     80\n",
      "2   Nate       10     30\n",
      "3    Ben       50     50\n"
     ]
    }
   ],
   "source": [
    "df = df.append(df2, ignore_index = True)\n",
    "print(df)"
   ]
  },
  {
   "cell_type": "markdown",
   "metadata": {},
   "source": [
    "# Group by"
   ]
  },
  {
   "cell_type": "code",
   "execution_count": 295,
   "metadata": {},
   "outputs": [
    {
     "name": "stdout",
     "output_type": "stream",
     "text": [
      "        name             major     sex\n",
      "0       John  Computer Science    male\n",
      "1       Nate  Computer Science    male\n",
      "2    Abraham           Physics    male\n",
      "3      Brian        Psychology    male\n",
      "4      Janny         Economics  female\n",
      "5       Yuna         Economics  female\n",
      "6   Jeniffer  Computer Science  female\n",
      "7     Edward  Computer Science    male\n",
      "8       Zara        Psychology  female\n",
      "9      Wendy         Economics  female\n",
      "10      Sera        Psychology  female\n"
     ]
    }
   ],
   "source": [
    "student_list = [{'name': 'John', 'major': \"Computer Science\", 'sex': \"male\"},\n",
    "                {'name': 'Nate', 'major': \"Computer Science\", 'sex': \"male\"},\n",
    "                {'name': 'Abraham', 'major': \"Physics\", 'sex': \"male\"},\n",
    "                {'name': 'Brian', 'major': \"Psychology\", 'sex': \"male\"},\n",
    "                {'name': 'Janny', 'major': \"Economics\", 'sex': \"female\"},\n",
    "                {'name': 'Yuna', 'major': \"Economics\", 'sex': \"female\"},\n",
    "                {'name': 'Jeniffer', 'major': \"Computer Science\", 'sex': \"female\"},\n",
    "                {'name': 'Edward', 'major': \"Computer Science\", 'sex': \"male\"},\n",
    "                {'name': 'Zara', 'major': \"Psychology\", 'sex': \"female\"},\n",
    "                {'name': 'Wendy', 'major': \"Economics\", 'sex': \"female\"},\n",
    "                {'name': 'Sera', 'major': \"Psychology\", 'sex': \"female\"}\n",
    "         ]\n",
    "\n",
    "df = pd.DataFrame(student_list, columns = ['name', 'major', 'sex'])\n",
    "print(df)"
   ]
  },
  {
   "cell_type": "code",
   "execution_count": 296,
   "metadata": {},
   "outputs": [
    {
     "name": "stdout",
     "output_type": "stream",
     "text": [
      "{'Computer Science': Int64Index([0, 1, 6, 7], dtype='int64'), 'Economics': Int64Index([4, 5, 9], dtype='int64'), 'Physics': Int64Index([2], dtype='int64'), 'Psychology': Int64Index([3, 8, 10], dtype='int64')}\n",
      "Computer Science : 4\n",
      "       name             major     sex\n",
      "0      John  Computer Science    male\n",
      "1      Nate  Computer Science    male\n",
      "6  Jeniffer  Computer Science  female\n",
      "7    Edward  Computer Science    male\n",
      "\n",
      "Economics : 3\n",
      "    name      major     sex\n",
      "4  Janny  Economics  female\n",
      "5   Yuna  Economics  female\n",
      "9  Wendy  Economics  female\n",
      "\n",
      "Physics : 1\n",
      "      name    major   sex\n",
      "2  Abraham  Physics  male\n",
      "\n",
      "Psychology : 3\n",
      "     name       major     sex\n",
      "3   Brian  Psychology    male\n",
      "8    Zara  Psychology  female\n",
      "10   Sera  Psychology  female\n",
      "\n"
     ]
    }
   ],
   "source": [
    "result = df.groupby('major')\n",
    "\n",
    "print(result.groups)\n",
    "\n",
    "for name, group in groupby_major:\n",
    "    print(name + ' : ' + str(len(group)))\n",
    "    print(group)\n",
    "    print()"
   ]
  },
  {
   "cell_type": "code",
   "execution_count": 297,
   "metadata": {},
   "outputs": [
    {
     "name": "stdout",
     "output_type": "stream",
     "text": [
      "                  count\n",
      "major                  \n",
      "Computer Science      4\n",
      "Economics             3\n",
      "Physics               1\n",
      "Psychology            3\n"
     ]
    }
   ],
   "source": [
    "# using group to index\n",
    "result = pd.DataFrame({'count' : groupby_major.size()})\n",
    "print(result)"
   ]
  },
  {
   "cell_type": "code",
   "execution_count": 298,
   "metadata": {},
   "outputs": [
    {
     "name": "stdout",
     "output_type": "stream",
     "text": [
      "              major  count\n",
      "0  Computer Science      4\n",
      "1         Economics      3\n",
      "2           Physics      1\n",
      "3        Psychology      3\n"
     ]
    }
   ],
   "source": [
    "# reset index\n",
    "result = pd.DataFrame({'count' : groupby_major.size()}).reset_index()\n",
    "print(result)"
   ]
  },
  {
   "cell_type": "markdown",
   "metadata": {},
   "source": [
    "# drop duplicate"
   ]
  },
  {
   "cell_type": "markdown",
   "metadata": {},
   "source": [
    "## with all columns"
   ]
  },
  {
   "cell_type": "code",
   "execution_count": 299,
   "metadata": {},
   "outputs": [
    {
     "name": "stdout",
     "output_type": "stream",
     "text": [
      "        name             major     sex\n",
      "0       John  Computer Science    male\n",
      "1       Nate  Computer Science    male\n",
      "2    Abraham           Physics    male\n",
      "3      Brian        Psychology    male\n",
      "4      Janny         Economics  female\n",
      "5       Yuna         Economics  female\n",
      "6   Jeniffer  Computer Science  female\n",
      "7     Edward  Computer Science    male\n",
      "8       Zara        Psychology  female\n",
      "9      Wendy         Economics  female\n",
      "10      Sera        Psychology  female\n",
      "11      John  Computer Science    male\n"
     ]
    }
   ],
   "source": [
    "student_list = [{'name': 'John', 'major': \"Computer Science\", 'sex': \"male\"},\n",
    "                {'name': 'Nate', 'major': \"Computer Science\", 'sex': \"male\"},\n",
    "                {'name': 'Abraham', 'major': \"Physics\", 'sex': \"male\"},\n",
    "                {'name': 'Brian', 'major': \"Psychology\", 'sex': \"male\"},\n",
    "                {'name': 'Janny', 'major': \"Economics\", 'sex': \"female\"},\n",
    "                {'name': 'Yuna', 'major': \"Economics\", 'sex': \"female\"},\n",
    "                {'name': 'Jeniffer', 'major': \"Computer Science\", 'sex': \"female\"},\n",
    "                {'name': 'Edward', 'major': \"Computer Science\", 'sex': \"male\"},\n",
    "                {'name': 'Zara', 'major': \"Psychology\", 'sex': \"female\"},\n",
    "                {'name': 'Wendy', 'major': \"Economics\", 'sex': \"female\"},\n",
    "                {'name': 'Sera', 'major': \"Psychology\", 'sex': \"female\"},\n",
    "                {'name': 'John', 'major': \"Computer Science\", 'sex': \"male\"},\n",
    "         ]\n",
    "\n",
    "df = pd.DataFrame(student_list, columns = ['name', 'major', 'sex'])\n",
    "print(df)"
   ]
  },
  {
   "cell_type": "code",
   "execution_count": 300,
   "metadata": {},
   "outputs": [
    {
     "name": "stdout",
     "output_type": "stream",
     "text": [
      "0     False\n",
      "1     False\n",
      "2     False\n",
      "3     False\n",
      "4     False\n",
      "5     False\n",
      "6     False\n",
      "7     False\n",
      "8     False\n",
      "9     False\n",
      "10    False\n",
      "11     True\n",
      "dtype: bool\n"
     ]
    }
   ],
   "source": [
    "print(df.duplicated())"
   ]
  },
  {
   "cell_type": "code",
   "execution_count": 301,
   "metadata": {},
   "outputs": [
    {
     "name": "stdout",
     "output_type": "stream",
     "text": [
      "        name             major     sex\n",
      "0       John  Computer Science    male\n",
      "1       Nate  Computer Science    male\n",
      "2    Abraham           Physics    male\n",
      "3      Brian        Psychology    male\n",
      "4      Janny         Economics  female\n",
      "5       Yuna         Economics  female\n",
      "6   Jeniffer  Computer Science  female\n",
      "7     Edward  Computer Science    male\n",
      "8       Zara        Psychology  female\n",
      "9      Wendy         Economics  female\n",
      "10      Sera        Psychology  female\n"
     ]
    }
   ],
   "source": [
    "result = df.drop_duplicates()\n",
    "print(result)"
   ]
  },
  {
   "cell_type": "markdown",
   "metadata": {},
   "source": [
    "## with specific columns"
   ]
  },
  {
   "cell_type": "code",
   "execution_count": 302,
   "metadata": {},
   "outputs": [
    {
     "name": "stdout",
     "output_type": "stream",
     "text": [
      "        name             major     sex\n",
      "0       John  Computer Science    male\n",
      "1       Nate  Computer Science    male\n",
      "2    Abraham           Physics    male\n",
      "3      Brian        Psychology    male\n",
      "4      Janny         Economics  female\n",
      "5       Yuna         Economics  female\n",
      "6   Jeniffer  Computer Science  female\n",
      "7     Edward  Computer Science    male\n",
      "8       Zara        Psychology  female\n",
      "9      Wendy         Economics  female\n",
      "10      Nate              None    male\n",
      "11      John  Computer Science    None\n"
     ]
    }
   ],
   "source": [
    "student_list = [{'name': 'John', 'major': \"Computer Science\", 'sex': \"male\"},\n",
    "                {'name': 'Nate', 'major': \"Computer Science\", 'sex': \"male\"},\n",
    "                {'name': 'Abraham', 'major': \"Physics\", 'sex': \"male\"},\n",
    "                {'name': 'Brian', 'major': \"Psychology\", 'sex': \"male\"},\n",
    "                {'name': 'Janny', 'major': \"Economics\", 'sex': \"female\"},\n",
    "                {'name': 'Yuna', 'major': \"Economics\", 'sex': \"female\"},\n",
    "                {'name': 'Jeniffer', 'major': \"Computer Science\", 'sex': \"female\"},\n",
    "                {'name': 'Edward', 'major': \"Computer Science\", 'sex': \"male\"},\n",
    "                {'name': 'Zara', 'major': \"Psychology\", 'sex': \"female\"},\n",
    "                {'name': 'Wendy', 'major': \"Economics\", 'sex': \"female\"},\n",
    "                {'name': 'Nate', 'major': None, 'sex': \"male\"},\n",
    "                {'name': 'John', 'major': \"Computer Science\", 'sex': None},\n",
    "         ]\n",
    "\n",
    "df = pd.DataFrame(student_list, columns = ['name', 'major', 'sex'])\n",
    "print(df)"
   ]
  },
  {
   "cell_type": "code",
   "execution_count": 303,
   "metadata": {},
   "outputs": [
    {
     "name": "stdout",
     "output_type": "stream",
     "text": [
      "0     False\n",
      "1     False\n",
      "2     False\n",
      "3     False\n",
      "4     False\n",
      "5     False\n",
      "6     False\n",
      "7     False\n",
      "8     False\n",
      "9     False\n",
      "10     True\n",
      "11     True\n",
      "dtype: bool\n"
     ]
    }
   ],
   "source": [
    "print(df.duplicated(['name']))"
   ]
  },
  {
   "cell_type": "code",
   "execution_count": 304,
   "metadata": {},
   "outputs": [
    {
     "name": "stdout",
     "output_type": "stream",
     "text": [
      "        name             major     sex\n",
      "2    Abraham           Physics    male\n",
      "3      Brian        Psychology    male\n",
      "4      Janny         Economics  female\n",
      "5       Yuna         Economics  female\n",
      "6   Jeniffer  Computer Science  female\n",
      "7     Edward  Computer Science    male\n",
      "8       Zara        Psychology  female\n",
      "9      Wendy         Economics  female\n",
      "10      Nate              None    male\n",
      "11      John  Computer Science    None\n"
     ]
    }
   ],
   "source": [
    "result = df.drop_duplicates(['name'], keep='last') # keep's default value: first\n",
    "print(result)"
   ]
  },
  {
   "cell_type": "markdown",
   "metadata": {},
   "source": [
    "# NaN value"
   ]
  },
  {
   "cell_type": "markdown",
   "metadata": {},
   "source": [
    "## find NaN"
   ]
  },
  {
   "cell_type": "code",
   "execution_count": 308,
   "metadata": {},
   "outputs": [
    {
     "name": "stdout",
     "output_type": "stream",
     "text": [
      "      name      job   age\n",
      "0     John  teacher  40.0\n",
      "1     Nate  teacher  35.0\n",
      "2     Yuna  teacher  37.0\n",
      "3  Abraham  student  10.0\n",
      "4    Brian  student  12.0\n",
      "5    Janny  student  11.0\n",
      "6     Nate  teacher   NaN\n",
      "7     John  student   NaN\n"
     ]
    }
   ],
   "source": [
    "school_id_list = [{'name': 'John', 'job': \"teacher\", 'age': 40},\n",
    "                {'name': 'Nate', 'job': \"teacher\", 'age': 35},\n",
    "                {'name': 'Yuna', 'job': \"teacher\", 'age': 37},\n",
    "                {'name': 'Abraham', 'job': \"student\", 'age': 10},\n",
    "                {'name': 'Brian', 'job': \"student\", 'age': 12},\n",
    "                {'name': 'Janny', 'job': \"student\", 'age': 11},\n",
    "                {'name': 'Nate', 'job': \"teacher\", 'age': None},\n",
    "                {'name': 'John', 'job': \"student\", 'age': None}\n",
    "         ]\n",
    "\n",
    "df = pd.DataFrame(school_id_list, columns = ['name', 'job', 'age'])\n",
    "print(df)"
   ]
  },
  {
   "cell_type": "code",
   "execution_count": 309,
   "metadata": {},
   "outputs": [
    {
     "name": "stdout",
     "output_type": "stream",
     "text": [
      "(8, 3)\n"
     ]
    }
   ],
   "source": [
    "print(df.shape)"
   ]
  },
  {
   "cell_type": "code",
   "execution_count": 310,
   "metadata": {
    "scrolled": true
   },
   "outputs": [
    {
     "name": "stdout",
     "output_type": "stream",
     "text": [
      "<class 'pandas.core.frame.DataFrame'>\n",
      "RangeIndex: 8 entries, 0 to 7\n",
      "Data columns (total 3 columns):\n",
      " #   Column  Non-Null Count  Dtype  \n",
      "---  ------  --------------  -----  \n",
      " 0   name    8 non-null      object \n",
      " 1   job     8 non-null      object \n",
      " 2   age     6 non-null      float64\n",
      "dtypes: float64(1), object(2)\n",
      "memory usage: 320.0+ bytes\n",
      "None\n"
     ]
    }
   ],
   "source": [
    "print(df.info())"
   ]
  },
  {
   "cell_type": "code",
   "execution_count": 311,
   "metadata": {},
   "outputs": [
    {
     "name": "stdout",
     "output_type": "stream",
     "text": [
      "    name    job    age\n",
      "0  False  False  False\n",
      "1  False  False  False\n",
      "2  False  False  False\n",
      "3  False  False  False\n",
      "4  False  False  False\n",
      "5  False  False  False\n",
      "6  False  False   True\n",
      "7  False  False   True\n"
     ]
    }
   ],
   "source": [
    "print(df.isna())"
   ]
  },
  {
   "cell_type": "markdown",
   "metadata": {},
   "source": [
    "## change NaN"
   ]
  },
  {
   "cell_type": "markdown",
   "metadata": {},
   "source": [
    "### with default value"
   ]
  },
  {
   "cell_type": "code",
   "execution_count": 313,
   "metadata": {},
   "outputs": [
    {
     "name": "stdout",
     "output_type": "stream",
     "text": [
      "      name      job   age\n",
      "0     John  teacher  40.0\n",
      "1     Nate  teacher  35.0\n",
      "2     Yuna  teacher  37.0\n",
      "3  Abraham  student  10.0\n",
      "4    Brian  student  12.0\n",
      "5    Janny  student  11.0\n",
      "6     Nate  teacher   0.0\n",
      "7     John  student   0.0\n"
     ]
    }
   ],
   "source": [
    "df.age = df['age'].fillna(0)\n",
    "print(df)"
   ]
  },
  {
   "cell_type": "markdown",
   "metadata": {},
   "source": [
    "### with condition"
   ]
  },
  {
   "cell_type": "code",
   "execution_count": 314,
   "metadata": {},
   "outputs": [
    {
     "name": "stdout",
     "output_type": "stream",
     "text": [
      "      name      job   age\n",
      "0     John  teacher  40.0\n",
      "1     Nate  teacher  35.0\n",
      "2     Yuna  teacher  37.0\n",
      "3  Abraham  student  10.0\n",
      "4    Brian  student  12.0\n",
      "5    Janny  student  11.0\n",
      "6     Nate  teacher   0.0\n",
      "7     John  student   0.0\n"
     ]
    }
   ],
   "source": [
    "# using median value\n",
    "df['age'].fillna(df.groupby('job')['age'].transform('median'), inplace=True)\n",
    "print(df)"
   ]
  },
  {
   "cell_type": "markdown",
   "metadata": {},
   "source": [
    "# Unique value"
   ]
  },
  {
   "cell_type": "code",
   "execution_count": 305,
   "metadata": {},
   "outputs": [
    {
     "name": "stdout",
     "output_type": "stream",
     "text": [
      "       name                job\n",
      "0      John            teacher\n",
      "1      Nate            teacher\n",
      "2      Fred            teacher\n",
      "3   Abraham            student\n",
      "4     Brian            student\n",
      "5     Janny          developer\n",
      "6      Nate            teacher\n",
      "7    Obrian            dentist\n",
      "8      Yuna            teacher\n",
      "9       Rob             lawyer\n",
      "10    Brian            student\n",
      "11     Matt            student\n",
      "12    Wendy             banker\n",
      "13   Edward            teacher\n",
      "14      Ian            teacher\n",
      "15    Chris             banker\n",
      "16   Philip             lawyer\n",
      "17    Janny  basketball player\n",
      "18     Gwen            teacher\n",
      "19    Jessy            student\n"
     ]
    }
   ],
   "source": [
    "job_list = [{'name': 'John', 'job': \"teacher\"},\n",
    "                {'name': 'Nate', 'job': \"teacher\"},\n",
    "                {'name': 'Fred', 'job': \"teacher\"},\n",
    "                {'name': 'Abraham', 'job': \"student\"},\n",
    "                {'name': 'Brian', 'job': \"student\"},\n",
    "                {'name': 'Janny', 'job': \"developer\"},\n",
    "                {'name': 'Nate', 'job': \"teacher\"},\n",
    "                {'name': 'Obrian', 'job': \"dentist\"},\n",
    "                {'name': 'Yuna', 'job': \"teacher\"},\n",
    "                {'name': 'Rob', 'job': \"lawyer\"},\n",
    "                {'name': 'Brian', 'job': \"student\"},\n",
    "                {'name': 'Matt', 'job': \"student\"},\n",
    "                {'name': 'Wendy', 'job': \"banker\"},\n",
    "                {'name': 'Edward', 'job': \"teacher\"},\n",
    "                {'name': 'Ian', 'job': \"teacher\"},\n",
    "                {'name': 'Chris', 'job': \"banker\"},\n",
    "                {'name': 'Philip', 'job': \"lawyer\"},\n",
    "                {'name': 'Janny', 'job': \"basketball player\"},\n",
    "                {'name': 'Gwen', 'job': \"teacher\"},\n",
    "                {'name': 'Jessy', 'job': \"student\"}\n",
    "         ]\n",
    "\n",
    "df = pd.DataFrame(job_list, columns = ['name', 'job'])\n",
    "print(df)"
   ]
  },
  {
   "cell_type": "code",
   "execution_count": 306,
   "metadata": {},
   "outputs": [
    {
     "name": "stdout",
     "output_type": "stream",
     "text": [
      "['teacher' 'student' 'developer' 'dentist' 'lawyer' 'banker'\n",
      " 'basketball player']\n"
     ]
    }
   ],
   "source": [
    "print(df.job.unique())"
   ]
  },
  {
   "cell_type": "code",
   "execution_count": 307,
   "metadata": {},
   "outputs": [
    {
     "name": "stdout",
     "output_type": "stream",
     "text": [
      "teacher              8\n",
      "student              5\n",
      "banker               2\n",
      "lawyer               2\n",
      "dentist              1\n",
      "developer            1\n",
      "basketball player    1\n",
      "Name: job, dtype: int64\n"
     ]
    }
   ],
   "source": [
    "print(df.job.value_counts())"
   ]
  },
  {
   "cell_type": "markdown",
   "metadata": {},
   "source": [
    "# Concatenate DataFrame"
   ]
  },
  {
   "cell_type": "markdown",
   "metadata": {},
   "source": [
    "## with row"
   ]
  },
  {
   "cell_type": "code",
   "execution_count": 201,
   "metadata": {},
   "outputs": [],
   "source": [
    "l1 = [{'name': 'John', 'job': \"teacher\"},\n",
    "      {'name': 'Nate', 'job': \"student\"},\n",
    "      {'name': 'Fred', 'job': \"developer\"}]\n",
    "\n",
    "l2 = [{'name': 'Ed', 'job': \"dentist\"},\n",
    "      {'name': 'Jack', 'job': \"farmer\"},\n",
    "      {'name': 'Ted', 'job': \"designer\"}]\n",
    "         \n",
    "df1 = pd.DataFrame(l1, columns = ['name', 'job'])\n",
    "df2 = pd.DataFrame(l2, columns = ['name', 'job'])"
   ]
  },
  {
   "cell_type": "code",
   "execution_count": 284,
   "metadata": {},
   "outputs": [
    {
     "name": "stdout",
     "output_type": "stream",
     "text": [
      "   name        job\n",
      "0  John    teacher\n",
      "1  Nate    student\n",
      "2  Fred  developer\n"
     ]
    }
   ],
   "source": [
    "l1 = [{'name': 'John', 'job': \"teacher\"},\n",
    "      {'name': 'Nate', 'job': \"student\"},\n",
    "      {'name': 'Fred', 'job': \"developer\"}]\n",
    "         \n",
    "df1 = pd.DataFrame(l1, columns = ['name', 'job'])\n",
    "print(df1)"
   ]
  },
  {
   "cell_type": "code",
   "execution_count": 285,
   "metadata": {},
   "outputs": [
    {
     "name": "stdout",
     "output_type": "stream",
     "text": [
      "   name       job\n",
      "0    Ed   dentist\n",
      "1  Jack    farmer\n",
      "2   Ted  designer\n"
     ]
    }
   ],
   "source": [
    "l2 = [{'name': 'Ed', 'job': \"dentist\"},\n",
    "      {'name': 'Jack', 'job': \"farmer\"},\n",
    "      {'name': 'Ted', 'job': \"designer\"}]\n",
    "df2 = pd.DataFrame(l2, columns = ['name', 'job'])\n",
    "print(df2)"
   ]
  },
  {
   "cell_type": "code",
   "execution_count": 286,
   "metadata": {},
   "outputs": [
    {
     "name": "stdout",
     "output_type": "stream",
     "text": [
      "   name        job\n",
      "0  John    teacher\n",
      "1  Nate    student\n",
      "2  Fred  developer\n",
      "0    Ed    dentist\n",
      "1  Jack     farmer\n",
      "2   Ted   designer\n"
     ]
    }
   ],
   "source": [
    "result = pd.concat([df1, df2])\n",
    "print(result)"
   ]
  },
  {
   "cell_type": "code",
   "execution_count": 287,
   "metadata": {},
   "outputs": [
    {
     "name": "stdout",
     "output_type": "stream",
     "text": [
      "   name        job\n",
      "0  John    teacher\n",
      "1  Nate    student\n",
      "2  Fred  developer\n",
      "3    Ed    dentist\n",
      "4  Jack     farmer\n",
      "5   Ted   designer\n"
     ]
    }
   ],
   "source": [
    "result = pd.concat([df1, df2], ignore_index=True)\n",
    "print(result)"
   ]
  },
  {
   "cell_type": "code",
   "execution_count": 289,
   "metadata": {},
   "outputs": [
    {
     "name": "stdout",
     "output_type": "stream",
     "text": [
      "   name        job\n",
      "0  John    teacher\n",
      "1  Nate    student\n",
      "2  Fred  developer\n",
      "0    Ed    dentist\n",
      "1  Jack     farmer\n",
      "2   Ted   designer\n"
     ]
    }
   ],
   "source": [
    "result = df1.append(df2)\n",
    "print(result)"
   ]
  },
  {
   "cell_type": "code",
   "execution_count": 290,
   "metadata": {},
   "outputs": [
    {
     "name": "stdout",
     "output_type": "stream",
     "text": [
      "   name        job\n",
      "0  John    teacher\n",
      "1  Nate    student\n",
      "2  Fred  developer\n",
      "3    Ed    dentist\n",
      "4  Jack     farmer\n",
      "5   Ted   designer\n"
     ]
    }
   ],
   "source": [
    "result = df1.append(df2, ignore_index=True)\n",
    "print(result)"
   ]
  },
  {
   "cell_type": "markdown",
   "metadata": {},
   "source": [
    "## with column"
   ]
  },
  {
   "cell_type": "code",
   "execution_count": 291,
   "metadata": {},
   "outputs": [
    {
     "name": "stdout",
     "output_type": "stream",
     "text": [
      "   name        job\n",
      "0  John    teacher\n",
      "1  Nate    student\n",
      "2  Jack  developer\n"
     ]
    }
   ],
   "source": [
    "l3 = [{'name': 'John', 'job': \"teacher\"},\n",
    "      {'name': 'Nate', 'job': \"student\"},\n",
    "      {'name': 'Jack', 'job': \"developer\"}]\n",
    "\n",
    "df1 = pd.DataFrame(l3, columns=['name', 'job'])\n",
    "print(df1)"
   ]
  },
  {
   "cell_type": "code",
   "execution_count": 292,
   "metadata": {},
   "outputs": [
    {
     "name": "stdout",
     "output_type": "stream",
     "text": [
      "   age country\n",
      "0   25     U.S\n",
      "1   30     U.K\n",
      "2   45   Korea\n"
     ]
    }
   ],
   "source": [
    "l4 = [{'age': 25, 'country': \"U.S\"},\n",
    "      {'age': 30, 'country': \"U.K\"},\n",
    "      {'age': 45, 'country': \"Korea\"}]\n",
    "\n",
    "df2 = pd.DataFrame(l4, columns=['age', 'country'])\n",
    "print(df2)"
   ]
  },
  {
   "cell_type": "code",
   "execution_count": 293,
   "metadata": {},
   "outputs": [
    {
     "name": "stdout",
     "output_type": "stream",
     "text": [
      "      0          1   2      3\n",
      "0  John    teacher  25    U.S\n",
      "1  Nate    student  30    U.K\n",
      "2  Jack  developer  45  Korea\n"
     ]
    }
   ],
   "source": [
    "result = pd.concat([df1, df2], axis=1, ignore_index=True)\n",
    "print(result)"
   ]
  }
 ],
 "metadata": {
  "kernelspec": {
   "display_name": "Python 3",
   "language": "python",
   "name": "python3"
  },
  "language_info": {
   "codemirror_mode": {
    "name": "ipython",
    "version": 3
   },
   "file_extension": ".py",
   "mimetype": "text/x-python",
   "name": "python",
   "nbconvert_exporter": "python",
   "pygments_lexer": "ipython3",
   "version": "3.8.5"
  }
 },
 "nbformat": 4,
 "nbformat_minor": 4
}
